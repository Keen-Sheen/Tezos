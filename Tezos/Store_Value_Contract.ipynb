{
 "cells": [
  {
   "cell_type": "code",
   "execution_count": null,
   "id": "7a48a96d-3489-4c5b-8717-56316bad1e4b",
   "metadata": {
    "tags": []
   },
   "outputs": [],
   "source": [
    "# SmartPy Code\n",
    "import smartpy as sp\n",
    "\n",
    "class StoreValue(sp.Contract):\n",
    "  def __init__(self, value):\n",
    "      self.init(storedValue = value)\n",
    "\n",
    "  @sp.entry_point\n",
    "  def replace(self, value):\n",
    "      self.data.storedValue = value\n",
    "\n",
    "  @sp.entry_point\n",
    "  def double(self):\n",
    "      self.data.storedValue *= 2\n",
    "\n",
    "@sp.add_test(name = \"StoreValue\")\n",
    "def test():\n",
    "  scenario = sp.test_scenario()\n",
    "  scenario.h1(\"Store Value\")\n",
    "  contract = StoreValue(1)\n",
    "  scenario += contract\n",
    "  scenario += contract.replace(2)\n",
    "  scenario += contract.double()"
   ]
  }
 ],
 "metadata": {
  "kernelspec": {
   "display_name": "Python 3 (ipykernel)",
   "language": "python",
   "name": "python3"
  },
  "language_info": {
   "codemirror_mode": {
    "name": "ipython",
    "version": 3
   },
   "file_extension": ".py",
   "mimetype": "text/x-python",
   "name": "python",
   "nbconvert_exporter": "python",
   "pygments_lexer": "ipython3",
   "version": "3.8.8"
  }
 },
 "nbformat": 4,
 "nbformat_minor": 5
}
